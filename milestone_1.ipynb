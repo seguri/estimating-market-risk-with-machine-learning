{
 "cells": [
  {
   "cell_type": "code",
   "execution_count": 5,
   "id": "49b7ca20",
   "metadata": {},
   "outputs": [],
   "source": [
    "import matplotlib.pyplot as plt\n",
    "import numpy as np\n",
    "import pandas as pd\n",
    "import warnings\n",
    "\n",
    "warnings.filterwarnings(\"ignore\")"
   ]
  },
  {
   "cell_type": "markdown",
   "id": "09640fc1",
   "metadata": {},
   "source": [
    "## Extracting data"
   ]
  },
  {
   "cell_type": "markdown",
   "id": "59461d11",
   "metadata": {},
   "source": [
    "Extract daily historical stock prices of JP Morgan (JPM), Bank of America (BAC) and Morgan Stanley (MS) for the period of 01/10/2021 - 01/02/2022 via Yahoo Finance API."
   ]
  },
  {
   "cell_type": "code",
   "execution_count": 27,
   "id": "6aefd73f",
   "metadata": {},
   "outputs": [
    {
     "data": {
      "text/html": [
       "<div>\n",
       "<style scoped>\n",
       "    .dataframe tbody tr th:only-of-type {\n",
       "        vertical-align: middle;\n",
       "    }\n",
       "\n",
       "    .dataframe tbody tr th {\n",
       "        vertical-align: top;\n",
       "    }\n",
       "\n",
       "    .dataframe thead th {\n",
       "        text-align: right;\n",
       "    }\n",
       "</style>\n",
       "<table border=\"1\" class=\"dataframe\">\n",
       "  <thead>\n",
       "    <tr style=\"text-align: right;\">\n",
       "      <th></th>\n",
       "      <th>BAC</th>\n",
       "      <th>JPM</th>\n",
       "      <th>MS</th>\n",
       "    </tr>\n",
       "  </thead>\n",
       "  <tbody>\n",
       "    <tr>\n",
       "      <th>count</th>\n",
       "      <td>84.000000</td>\n",
       "      <td>84.000000</td>\n",
       "      <td>84.000000</td>\n",
       "    </tr>\n",
       "    <tr>\n",
       "      <th>mean</th>\n",
       "      <td>45.888810</td>\n",
       "      <td>162.362977</td>\n",
       "      <td>99.935834</td>\n",
       "    </tr>\n",
       "    <tr>\n",
       "      <th>std</th>\n",
       "      <td>1.665257</td>\n",
       "      <td>7.186187</td>\n",
       "      <td>2.382289</td>\n",
       "    </tr>\n",
       "    <tr>\n",
       "      <th>min</th>\n",
       "      <td>43.080002</td>\n",
       "      <td>144.949997</td>\n",
       "      <td>94.010002</td>\n",
       "    </tr>\n",
       "    <tr>\n",
       "      <th>25%</th>\n",
       "      <td>44.457500</td>\n",
       "      <td>158.335003</td>\n",
       "      <td>98.397501</td>\n",
       "    </tr>\n",
       "    <tr>\n",
       "      <th>50%</th>\n",
       "      <td>45.885000</td>\n",
       "      <td>164.065002</td>\n",
       "      <td>99.840000</td>\n",
       "    </tr>\n",
       "    <tr>\n",
       "      <th>75%</th>\n",
       "      <td>47.255000</td>\n",
       "      <td>167.885002</td>\n",
       "      <td>101.762501</td>\n",
       "    </tr>\n",
       "    <tr>\n",
       "      <th>max</th>\n",
       "      <td>49.209999</td>\n",
       "      <td>171.779999</td>\n",
       "      <td>105.919998</td>\n",
       "    </tr>\n",
       "  </tbody>\n",
       "</table>\n",
       "</div>"
      ],
      "text/plain": [
       "             BAC         JPM          MS\n",
       "count  84.000000   84.000000   84.000000\n",
       "mean   45.888810  162.362977   99.935834\n",
       "std     1.665257    7.186187    2.382289\n",
       "min    43.080002  144.949997   94.010002\n",
       "25%    44.457500  158.335003   98.397501\n",
       "50%    45.885000  164.065002   99.840000\n",
       "75%    47.255000  167.885002  101.762501\n",
       "max    49.209999  171.779999  105.919998"
      ]
     },
     "execution_count": 27,
     "metadata": {},
     "output_type": "execute_result"
    }
   ],
   "source": [
    "symbols = ['JPM', 'BAC', 'MS']\n",
    "df = pd.read_csv('stock_prices.csv', index_col='Date', parse_dates=['Date'])\n",
    "df = df.loc['2021-10-01':'2022-02-01']\n",
    "df.describe()"
   ]
  },
  {
   "cell_type": "code",
   "execution_count": 31,
   "id": "6e56bf1a",
   "metadata": {},
   "outputs": [],
   "source": [
    "daily_returns = df.pct_change()\n",
    "monthly_returns = df.resample('M').ffill().pct_change()"
   ]
  },
  {
   "cell_type": "markdown",
   "id": "a549c0ac",
   "metadata": {},
   "source": [
    "However, [log returns](https://quantivity.wordpress.com/2011/02/21/why-log-returns/) are better."
   ]
  },
  {
   "cell_type": "code",
   "execution_count": 34,
   "id": "f45d9177",
   "metadata": {},
   "outputs": [],
   "source": [
    "daily_log_returns = np.log(1 + daily_returns).dropna()"
   ]
  },
  {
   "cell_type": "markdown",
   "id": "fa9baec7",
   "metadata": {},
   "source": [
    "This data is given:"
   ]
  },
  {
   "cell_type": "code",
   "execution_count": 35,
   "id": "a6c92a3a",
   "metadata": {},
   "outputs": [],
   "source": [
    "total_asset = 1e6\n",
    "conf_level = 0.95\n",
    "t = 5"
   ]
  },
  {
   "cell_type": "markdown",
   "id": "123867d6",
   "metadata": {},
   "source": [
    "Define a portfolio with random weights for our 3 assets:"
   ]
  }
 ],
 "metadata": {
  "kernelspec": {
   "display_name": "Python 3",
   "language": "python",
   "name": "python3"
  },
  "language_info": {
   "codemirror_mode": {
    "name": "ipython",
    "version": 3
   },
   "file_extension": ".py",
   "mimetype": "text/x-python",
   "name": "python",
   "nbconvert_exporter": "python",
   "pygments_lexer": "ipython3",
   "version": "3.9.12"
  }
 },
 "nbformat": 4,
 "nbformat_minor": 5
}
